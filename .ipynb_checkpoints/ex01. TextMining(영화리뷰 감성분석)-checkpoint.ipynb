{
 "cells": [
  {
   "cell_type": "markdown",
   "id": "84b42f5c",
   "metadata": {},
   "source": [
    "### 1. 문제 정의\n",
    "- 영화리뷰데이터를 활용해서 긍정, 부정 감정분석 진행하자!\n",
    "    - 감성 분석이란?\n",
    "    - 특정 주제에 대한 글의 감성 태도를 파악하는 것(긍정/부정)\n",
    "- 텍스트 데이터를 다루는 방법에 대해서 이해해보자!\n"
   ]
  },
  {
   "cell_type": "code",
   "execution_count": 1,
   "id": "612ba656",
   "metadata": {},
   "outputs": [],
   "source": [
    "# 파일 불러오는 방법\n",
    "from sklearn.datasets import load_files\n",
    "import numpy as np\n",
    "import pandas as pd"
   ]
  },
  {
   "cell_type": "code",
   "execution_count": null,
   "id": "3c698b3a",
   "metadata": {},
   "outputs": [],
   "source": [
    "# "
   ]
  },
  {
   "cell_type": "code",
   "execution_count": null,
   "id": "771a0743",
   "metadata": {},
   "outputs": [],
   "source": []
  },
  {
   "cell_type": "code",
   "execution_count": null,
   "id": "43b295b2",
   "metadata": {},
   "outputs": [],
   "source": []
  },
  {
   "cell_type": "code",
   "execution_count": null,
   "id": "18c4a9fa",
   "metadata": {},
   "outputs": [],
   "source": []
  },
  {
   "cell_type": "code",
   "execution_count": null,
   "id": "ebfb85f6",
   "metadata": {},
   "outputs": [],
   "source": []
  },
  {
   "cell_type": "code",
   "execution_count": null,
   "id": "f474f7e3",
   "metadata": {},
   "outputs": [],
   "source": []
  },
  {
   "cell_type": "code",
   "execution_count": null,
   "id": "e6002a76",
   "metadata": {},
   "outputs": [],
   "source": []
  },
  {
   "cell_type": "code",
   "execution_count": null,
   "id": "3315ff09",
   "metadata": {},
   "outputs": [],
   "source": []
  }
 ],
 "metadata": {
  "kernelspec": {
   "display_name": "Python 3 (ipykernel)",
   "language": "python",
   "name": "python3"
  },
  "language_info": {
   "codemirror_mode": {
    "name": "ipython",
    "version": 3
   },
   "file_extension": ".py",
   "mimetype": "text/x-python",
   "name": "python",
   "nbconvert_exporter": "python",
   "pygments_lexer": "ipython3",
   "version": "3.11.4"
  }
 },
 "nbformat": 4,
 "nbformat_minor": 5
}
